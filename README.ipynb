{
 "cells": [
  {
   "cell_type": "markdown",
   "metadata": {},
   "source": [
    "# openpyxlplus\n",
    "\n",
    "Based on openpyxl package. This package stores cells as numpy array which enables easier writing, modifications and styling of worksheets.\n",
    "\n",
    "1. Use `openpyxlplus.writer` to write scaler value, list, numpy array, pandas dataframe to worksheet. \n",
    "2. Use `openpyxl.cell_range.SheetCellRange`, `openpyxl.cell_range.SheetTableRange` and `openpyxl.cell_range.Cells` to write/get cell values and get/write/modify cell attribute easily.\n",
    "\n",
    "# How to Use\n",
    "\n",
    "## Writing to Worksheet"
   ]
  },
  {
   "cell_type": "code",
   "execution_count": 62,
   "metadata": {},
   "outputs": [
    {
     "data": {
      "text/html": [
       "<div>\n",
       "<style scoped>\n",
       "    .dataframe tbody tr th:only-of-type {\n",
       "        vertical-align: middle;\n",
       "    }\n",
       "\n",
       "    .dataframe tbody tr th {\n",
       "        vertical-align: top;\n",
       "    }\n",
       "\n",
       "    .dataframe thead th {\n",
       "        text-align: right;\n",
       "    }\n",
       "</style>\n",
       "<table border=\"1\" class=\"dataframe\">\n",
       "  <thead>\n",
       "    <tr style=\"text-align: right;\">\n",
       "      <th></th>\n",
       "      <th>0</th>\n",
       "      <th>1</th>\n",
       "      <th>2</th>\n",
       "      <th>3</th>\n",
       "      <th>4</th>\n",
       "      <th>5</th>\n",
       "      <th>6</th>\n",
       "    </tr>\n",
       "  </thead>\n",
       "  <tbody>\n",
       "    <tr>\n",
       "      <th>0</th>\n",
       "      <td>s1</td>\n",
       "      <td>None</td>\n",
       "      <td>l1</td>\n",
       "      <td>l2</td>\n",
       "      <td>l3</td>\n",
       "      <td>None</td>\n",
       "      <td>a</td>\n",
       "    </tr>\n",
       "    <tr>\n",
       "      <th>1</th>\n",
       "      <td>None</td>\n",
       "      <td>None</td>\n",
       "      <td>None</td>\n",
       "      <td>None</td>\n",
       "      <td>None</td>\n",
       "      <td>None</td>\n",
       "      <td>a</td>\n",
       "    </tr>\n",
       "    <tr>\n",
       "      <th>2</th>\n",
       "      <td>l1</td>\n",
       "      <td>None</td>\n",
       "      <td>0</td>\n",
       "      <td>1</td>\n",
       "      <td>2</td>\n",
       "      <td>None</td>\n",
       "      <td>a</td>\n",
       "    </tr>\n",
       "    <tr>\n",
       "      <th>3</th>\n",
       "      <td>l2</td>\n",
       "      <td>None</td>\n",
       "      <td>3</td>\n",
       "      <td>4</td>\n",
       "      <td>5</td>\n",
       "      <td>None</td>\n",
       "      <td>a</td>\n",
       "    </tr>\n",
       "    <tr>\n",
       "      <th>4</th>\n",
       "      <td>l3</td>\n",
       "      <td>None</td>\n",
       "      <td>6</td>\n",
       "      <td>7</td>\n",
       "      <td>8</td>\n",
       "      <td>None</td>\n",
       "      <td>a</td>\n",
       "    </tr>\n",
       "    <tr>\n",
       "      <th>5</th>\n",
       "      <td>None</td>\n",
       "      <td>None</td>\n",
       "      <td>None</td>\n",
       "      <td>None</td>\n",
       "      <td>None</td>\n",
       "      <td>None</td>\n",
       "      <td>b</td>\n",
       "    </tr>\n",
       "    <tr>\n",
       "      <th>6</th>\n",
       "      <td>None</td>\n",
       "      <td>c1</td>\n",
       "      <td>c2</td>\n",
       "      <td>c3</td>\n",
       "      <td>None</td>\n",
       "      <td>None</td>\n",
       "      <td>c</td>\n",
       "    </tr>\n",
       "    <tr>\n",
       "      <th>7</th>\n",
       "      <td>r1</td>\n",
       "      <td>0</td>\n",
       "      <td>100</td>\n",
       "      <td>200</td>\n",
       "      <td>None</td>\n",
       "      <td>None</td>\n",
       "      <td>d</td>\n",
       "    </tr>\n",
       "    <tr>\n",
       "      <th>8</th>\n",
       "      <td>r2</td>\n",
       "      <td>300</td>\n",
       "      <td>400</td>\n",
       "      <td>500</td>\n",
       "      <td>None</td>\n",
       "      <td>None</td>\n",
       "      <td>None</td>\n",
       "    </tr>\n",
       "    <tr>\n",
       "      <th>9</th>\n",
       "      <td>r3</td>\n",
       "      <td>600</td>\n",
       "      <td>700</td>\n",
       "      <td>800</td>\n",
       "      <td>None</td>\n",
       "      <td>None</td>\n",
       "      <td>None</td>\n",
       "    </tr>\n",
       "  </tbody>\n",
       "</table>\n",
       "</div>"
      ],
      "text/plain": [
       "      0     1     2     3     4     5     6\n",
       "0    s1  None    l1    l2    l3  None     a\n",
       "1  None  None  None  None  None  None     a\n",
       "2    l1  None     0     1     2  None     a\n",
       "3    l2  None     3     4     5  None     a\n",
       "4    l3  None     6     7     8  None     a\n",
       "5  None  None  None  None  None  None     b\n",
       "6  None    c1    c2    c3  None  None     c\n",
       "7    r1     0   100   200  None  None     d\n",
       "8    r2   300   400   500  None  None  None\n",
       "9    r3   600   700   800  None  None  None"
      ]
     },
     "metadata": {},
     "output_type": "display_data"
    }
   ],
   "source": [
    "# preparation\n",
    "import numpy as np\n",
    "import pandas as pd\n",
    "from openpyxl import Workbook\n",
    "from openpyxlplus import writer,cell_range\n",
    "scalar = \"s1\"\n",
    "l = [\"l1\",\"l2\",\"l3\"]\n",
    "array = np.arange(9).reshape((3,3))\n",
    "df = pd.DataFrame((np.arange(9)*100).reshape((3,3)),index=[\"r1\",\"r2\",\"r3\"],columns=[\"c1\",\"c2\",\"c3\"])\n",
    "\n",
    "wb = Workbook()\n",
    "ws = wb.active\n",
    "\n",
    "# write scaler\n",
    "rg1 = writer.write_value(scalar,ws,cell=ws[\"A1\"])\n",
    "\n",
    "# write list \"up\" or down (vertically)\n",
    "rg2 = writer.write_list(l,ws,cell=ws[\"A3\"],direction=\"down\")\n",
    "\n",
    "# write list \"left\" or \"right\" (horizontally)\n",
    "rg3 = writer.write_list(l,ws,cell=ws.cell(1,3),direction=\"right\")\n",
    "\n",
    "# write array\n",
    "rg4 = writer.write_array(array,ws,cell=ws.cell(3,3))\n",
    "\n",
    "# write dataframe\n",
    "rg5 = writer.write_dataframe(df,ws,cell=ws.cell(7,1),index=True,header=True)\n",
    "\n",
    "# write with SheetCellRange.write method. Values are brodcasted\n",
    "rg6 = cell_range.SheetCellRange(ws,range_string=\"G1:G5\")\n",
    "rg6.write(\"a\")\n",
    "\n",
    "# write with cells. Values should have the same shape as numpy array representing the cells\n",
    "rg7 = cell_range.SheetCellRange(ws,range_string=\"G6:G8\")\n",
    "rg7.cells.set_value([[\"b\"],[\"c\"],[\"d\"]])\n",
    "\n",
    "rg_all = cell_range.SheetCellRange(ws,range_string=\"A1:G10\")\n",
    "\n",
    "display(pd.DataFrame(rg_all.cell_values))\n",
    "# wb.save(\"test_workbook.xlsx\")"
   ]
  },
  {
   "cell_type": "markdown",
   "metadata": {},
   "source": [
    "## Getting Cell Values and Attributes\n",
    "\n",
    "To get/set cell values, or get/modify cell attributes/styles, you can use `openpyxlplus.cell_range.Cells`.\n",
    "\n",
    "To convert `SheetCellRange` to `Cells`, use `SheetCellRange.cells` attribute. To convert `Cells` back to `SheetCellRange`, use `Cells.to_range()` method"
   ]
  },
  {
   "cell_type": "code",
   "execution_count": 42,
   "metadata": {},
   "outputs": [
    {
     "data": {
      "text/plain": [
       "<SheetTableRange A1:D4>"
      ]
     },
     "metadata": {},
     "output_type": "display_data"
    },
    {
     "data": {
      "text/plain": [
       "<SheetCellRange B1:D1>"
      ]
     },
     "metadata": {},
     "output_type": "display_data"
    },
    {
     "data": {
      "text/plain": [
       "<SheetCellRange A2:A4>"
      ]
     },
     "metadata": {},
     "output_type": "display_data"
    },
    {
     "data": {
      "text/plain": [
       "<SheetCellRange B2:D4>"
      ]
     },
     "metadata": {},
     "output_type": "display_data"
    },
    {
     "data": {
      "text/plain": [
       "openpyxlplus.cell_range.Cells"
      ]
     },
     "metadata": {},
     "output_type": "display_data"
    },
    {
     "data": {
      "text/html": [
       "<div>\n",
       "<style scoped>\n",
       "    .dataframe tbody tr th:only-of-type {\n",
       "        vertical-align: middle;\n",
       "    }\n",
       "\n",
       "    .dataframe tbody tr th {\n",
       "        vertical-align: top;\n",
       "    }\n",
       "\n",
       "    .dataframe thead th {\n",
       "        text-align: right;\n",
       "    }\n",
       "</style>\n",
       "<table border=\"1\" class=\"dataframe\">\n",
       "  <thead>\n",
       "    <tr style=\"text-align: right;\">\n",
       "      <th></th>\n",
       "      <th>0</th>\n",
       "      <th>1</th>\n",
       "      <th>2</th>\n",
       "      <th>3</th>\n",
       "    </tr>\n",
       "  </thead>\n",
       "  <tbody>\n",
       "    <tr>\n",
       "      <th>0</th>\n",
       "      <td>None</td>\n",
       "      <td>c1</td>\n",
       "      <td>c2</td>\n",
       "      <td>c3</td>\n",
       "    </tr>\n",
       "    <tr>\n",
       "      <th>1</th>\n",
       "      <td>r1</td>\n",
       "      <td>0</td>\n",
       "      <td>1</td>\n",
       "      <td>2</td>\n",
       "    </tr>\n",
       "    <tr>\n",
       "      <th>2</th>\n",
       "      <td>r2</td>\n",
       "      <td>3</td>\n",
       "      <td>4</td>\n",
       "      <td>5</td>\n",
       "    </tr>\n",
       "    <tr>\n",
       "      <th>3</th>\n",
       "      <td>r3</td>\n",
       "      <td>6</td>\n",
       "      <td>7</td>\n",
       "      <td>8</td>\n",
       "    </tr>\n",
       "  </tbody>\n",
       "</table>\n",
       "</div>"
      ],
      "text/plain": [
       "      0   1   2   3\n",
       "0  None  c1  c2  c3\n",
       "1    r1   0   1   2\n",
       "2    r2   3   4   5\n",
       "3    r3   6   7   8"
      ]
     },
     "metadata": {},
     "output_type": "display_data"
    }
   ],
   "source": [
    "import numpy as np\n",
    "import pandas as pd\n",
    "from openpyxl import Workbook\n",
    "from openpyxlplus import writer,cell_range\n",
    "wb = Workbook()\n",
    "ws = wb.active\n",
    "df = pd.DataFrame(np.arange(9).reshape((3,3)),index=[\"r1\",\"r2\",\"r3\"],columns=[\"c1\",\"c2\",\"c3\"])\n",
    "rg = writer.write_dataframe(df,ws,cell=ws.cell(1,1),index=True,header=True)\n",
    "# rg = cell_range.SheetCellRange(range_string=\"A1:D4\")\n",
    "display(rg)\n",
    "display(rg.header) # .header only avilable to SheetTableRange\n",
    "display(rg.index) # .index only available to SheetTableRange\n",
    "display(rg.body) # .index only available to SheetTableRange\n",
    "display(type(rg.cells))\n",
    "display(pd.DataFrame(rg.cell_values))"
   ]
  },
  {
   "cell_type": "markdown",
   "metadata": {},
   "source": [
    "`openpyxlplus.cell_range.Cells` is just cells stored in a numpy array, so you can access each individual just like using `openpyxl` package"
   ]
  },
  {
   "cell_type": "code",
   "execution_count": 44,
   "metadata": {},
   "outputs": [
    {
     "name": "stdout",
     "output_type": "stream",
     "text": [
      "[[<Cell 'Sheet'.A1> <Cell 'Sheet'.B1> <Cell 'Sheet'.C1> <Cell 'Sheet'.D1>]\n",
      " [<Cell 'Sheet'.A2> <Cell 'Sheet'.B2> <Cell 'Sheet'.C2> <Cell 'Sheet'.D2>]\n",
      " [<Cell 'Sheet'.A3> <Cell 'Sheet'.B3> <Cell 'Sheet'.C3> <Cell 'Sheet'.D3>]\n",
      " [<Cell 'Sheet'.A4> <Cell 'Sheet'.B4> <Cell 'Sheet'.C4> <Cell 'Sheet'.D4>]]\n",
      "Type of cell: <class 'openpyxl.cell.cell.Cell'>\n",
      "Value of cell: 0\n",
      "Font of cell:\n",
      " <openpyxl.styles.fonts.Font object>\n",
      "Parameters:\n",
      "name='Calibri', charset=None, family=2.0, b=False, i=False, strike=None, outline=None, shadow=None, condense=None, color=<openpyxl.styles.colors.Color object>\n",
      "Parameters:\n",
      "rgb=None, indexed=None, auto=None, theme=1, tint=0.0, type='theme', extend=None, sz=11.0, u=None, vertAlign=None, scheme='minor'\n"
     ]
    }
   ],
   "source": [
    "print(rg.cells)\n",
    "print(f\"Type of cell: {type(rg.cells[1,1])}\")\n",
    "print(f\"Value of cell: {rg.cells[1,1].value}\")\n",
    "print(f\"Font of cell:\\n {rg.cells[1,1].font}\")"
   ]
  },
  {
   "cell_type": "markdown",
   "metadata": {},
   "source": [
    "### Getting Cell Values"
   ]
  },
  {
   "cell_type": "code",
   "execution_count": 91,
   "metadata": {},
   "outputs": [
    {
     "name": "stdout",
     "output_type": "stream",
     "text": [
      "get all values using .cell_values:\n",
      "[[None 'c1' 'c2' 'c3']\n",
      " ['r1' 0 1 2]\n",
      " ['r2' 3 4 5]\n",
      " ['r3' 6 7 8]]\n",
      "get all values using .cells.get_value():\n",
      "[[None 'c1' 'c2' 'c3']\n",
      " ['r1' 0 1 2]\n",
      " ['r2' 3 4 5]\n",
      " ['r3' 6 7 8]]\n",
      "get only header values:\n",
      "[['c1' 'c2' 'c3']]\n",
      "get values from a subset(Slicing syntax is identical with numpy):\n",
      "[[0 1 2]]\n",
      "Cells can be converted to SheetCellRange: <class 'openpyxlplus.cell_range.SheetCellRange'>\n"
     ]
    }
   ],
   "source": [
    "print(f\"get all values using .cell_values:\\n{rg.cell_values}\")\n",
    "print(f\"get all values using .cells.get_value():\\n{rg.cells.get_value()}\")\n",
    "print(f\"get only header values:\\n{rg.header.cell_values}\")\n",
    "print(f\"get values from a subset(Slicing syntax is identical with numpy):\\n{rg.body.cells[:1,:].get_value()}\")\n",
    "print(f\"Cells can be converted to SheetCellRange: {type(rg.body.cells[:1,:].to_range())}\")\n"
   ]
  },
  {
   "cell_type": "markdown",
   "metadata": {},
   "source": [
    "### Getting Cell Attributes/Styles\n",
    "\n",
    "Please refer to [Openpyxl Documentation](https://openpyxl.readthedocs.io/en/stable/styles.html) on details of styles. With this method, you can use the same keywords to get/modify the style of cells.\n",
    "\n",
    "The most common styles are: font, fill, border, alignment, number_format"
   ]
  },
  {
   "cell_type": "markdown",
   "metadata": {},
   "source": [
    "#### Getting Styles"
   ]
  },
  {
   "cell_type": "code",
   "execution_count": 47,
   "metadata": {},
   "outputs": [
    {
     "data": {
      "text/plain": [
       "array([['General', 'General', 'General', 'General']], dtype=object)"
      ]
     },
     "execution_count": 47,
     "metadata": {},
     "output_type": "execute_result"
    }
   ],
   "source": [
    "rg.cells[1:2,:].get_style(\"number_format\")"
   ]
  },
  {
   "cell_type": "markdown",
   "metadata": {},
   "source": [
    "#### Getting Style detail\n",
    "\n",
    "For example, the font attribute has many details like font name, size, bold, italic etc."
   ]
  },
  {
   "cell_type": "code",
   "execution_count": 56,
   "metadata": {},
   "outputs": [
    {
     "data": {
      "text/plain": [
       "array([<openpyxl.styles.fonts.Font object>\n",
       "       Parameters:\n",
       "       name='Calibri', charset=None, family=2.0, b=False, i=False, strike=None, outline=None, shadow=None, condense=None, color=<openpyxl.styles.colors.Color object>\n",
       "       Parameters:\n",
       "       rgb=None, indexed=None, auto=None, theme=1, tint=0.0, type='theme', extend=None, sz=11.0, u=None, vertAlign=None, scheme='minor'                              ],\n",
       "      dtype=object)"
      ]
     },
     "execution_count": 56,
     "metadata": {},
     "output_type": "execute_result"
    }
   ],
   "source": [
    "rg.cells[[1],[1]].get_style(\"font\")"
   ]
  },
  {
   "cell_type": "markdown",
   "metadata": {},
   "source": [
    "If we are only interested in one detailed attribute, then we can use `get_style_detail` method"
   ]
  },
  {
   "cell_type": "code",
   "execution_count": 49,
   "metadata": {},
   "outputs": [
    {
     "data": {
      "text/plain": [
       "array([[11.0, 11.0, 11.0, 11.0]], dtype=object)"
      ]
     },
     "execution_count": 49,
     "metadata": {},
     "output_type": "execute_result"
    }
   ],
   "source": [
    "rg.cells[1:2,:].get_style_detail(\"font\",\"size\")"
   ]
  },
  {
   "cell_type": "markdown",
   "metadata": {},
   "source": [
    "If the attribute is in another object, we can pass a list to the argument. For example, to theme attribute of font.color."
   ]
  },
  {
   "cell_type": "code",
   "execution_count": 54,
   "metadata": {},
   "outputs": [
    {
     "data": {
      "text/plain": [
       "array([[1, 1, 1, 1]], dtype=object)"
      ]
     },
     "execution_count": 54,
     "metadata": {},
     "output_type": "execute_result"
    }
   ],
   "source": [
    "rg.cells[1:2,:].get_style_detail(\"font\",[\"color\",\"theme\"])"
   ]
  },
  {
   "cell_type": "markdown",
   "metadata": {},
   "source": [
    "## Change/Modify Cell Attributes/Styles\n",
    "\n",
    "There are multiple ways to change styles.\n",
    "1. `set_style()` method: Set target style with provided style, overwrite all style attributes.\n",
    "   1. By default, `openpyxl.styles` module uses `None` for any attribute that is not specified. The original attribute will be replaced with `None`.\n",
    "2. `modify_style()` method: only modify attributes that are provided, if provided attribute is `None`, it won't overwrite original attribute."
   ]
  },
  {
   "cell_type": "code",
   "execution_count": 72,
   "metadata": {},
   "outputs": [
    {
     "name": "stdout",
     "output_type": "stream",
     "text": [
      "Before:\n",
      "[['General' 'General' 'General']\n",
      " ['General' 'General' 'General']\n",
      " ['General' 'General' 'General']]\n",
      "Before:\n",
      "[['0.00%' '0.00%' '0.00%']\n",
      " ['0.00%' '0.00%' '0.00%']\n",
      " ['0.00%' '0.00%' '0.00%']]\n"
     ]
    }
   ],
   "source": [
    "# modify style\n",
    "before = rg.body.cells.get_style(\"number_format\")\n",
    "rg.body.cells.set_style(\"number_format\",\"0.00%\") # change style (number_format)\n",
    "after = rg.body.cells.get_style(\"number_format\")\n",
    "rg.body.clear(value=False,formatting=True) # do not clear values, only clear formatting\n",
    "\n",
    "print(f\"Before:\\n{before}\")\n",
    "print(f\"Before:\\n{after}\")"
   ]
  },
  {
   "cell_type": "markdown",
   "metadata": {},
   "source": [
    "### Comparision between `set_style()` and `modify_style()` \n",
    "\n",
    "Refer to [Openpyxl Documentation](https://openpyxl.readthedocs.io/en/stable/styles.html) on what styles can be used and how to set styles.\n",
    "\n",
    "Note that by using `set_style` method, if any attribute is not specified, the original attribute will be overwritten with None. This is because `openpyxl.styles` by default set all attributes of a style to `None`."
   ]
  },
  {
   "cell_type": "code",
   "execution_count": 92,
   "metadata": {},
   "outputs": [
    {
     "name": "stdout",
     "output_type": "stream",
     "text": [
      "Before font name:[['Calibri' 'Calibri' 'Calibri' 'Calibri']]\n",
      "Before font size:[[11.0 11.0 11.0 11.0]]\n",
      "Before font bold:[[False False False False]]\n",
      "--------Use .set_style method to set bold to True--------\n",
      "After font name:[[None None None None]]\n",
      "After font size:[[None None None None]]\n",
      "After font bold:[[True True True True]]\n"
     ]
    },
    {
     "data": {
      "text/plain": [
       "<SheetCellRange A1:D1>"
      ]
     },
     "execution_count": 92,
     "metadata": {},
     "output_type": "execute_result"
    }
   ],
   "source": [
    "from openpyxl.styles import Font,Alignment,PatternFill,Border,Side\n",
    "cells_subset = rg.cells[:1,:]\n",
    "print(f'Before font name:{cells_subset.get_style_detail(\"font\",\"name\")}')\n",
    "print(f'Before font size:{cells_subset.get_style_detail(\"font\",\"size\")}')\n",
    "print(f'Before font bold:{cells_subset.get_style_detail(\"font\",\"b\")}')\n",
    "print(\"--------Use .set_style method to set bold to True--------\")\n",
    "cells_subset.set_style(\"font\",Font(b=True)) # set style\n",
    "print(f'After font name:{cells_subset.get_style_detail(\"font\",\"name\")}')\n",
    "print(f'After font size:{cells_subset.get_style_detail(\"font\",\"size\")}')\n",
    "print(f'After font bold:{cells_subset.get_style_detail(\"font\",\"b\")}')\n",
    "cells_subset.to_range().clear(value=False,formatting=True) # clear format only\n"
   ]
  },
  {
   "cell_type": "markdown",
   "metadata": {},
   "source": [
    "If above is not your desired behavior and you want to only replace original attributes with the ones you provided, use `modify_style` instead"
   ]
  },
  {
   "cell_type": "code",
   "execution_count": 93,
   "metadata": {},
   "outputs": [
    {
     "name": "stdout",
     "output_type": "stream",
     "text": [
      "Before font name:[['Calibri' 'Calibri' 'Calibri' 'Calibri']]\n",
      "Before font size:[[11.0 11.0 11.0 11.0]]\n",
      "Before font bold:[[False False False False]]\n",
      "--------Use .modify_style method to set bold to True--------\n",
      "After font name:[['Calibri' 'Calibri' 'Calibri' 'Calibri']]\n",
      "After font size:[[11.0 11.0 11.0 11.0]]\n",
      "After font bold:[[True True True True]]\n"
     ]
    },
    {
     "data": {
      "text/plain": [
       "<SheetCellRange A2:D2>"
      ]
     },
     "execution_count": 93,
     "metadata": {},
     "output_type": "execute_result"
    }
   ],
   "source": [
    "from openpyxl.styles import Font,Alignment,PatternFill,Border,Side\n",
    "cells_subset = rg.cells[1:2,:]\n",
    "print(f'Before font name:{cells_subset.get_style_detail(\"font\",\"name\")}')\n",
    "print(f'Before font size:{cells_subset.get_style_detail(\"font\",\"size\")}')\n",
    "print(f'Before font bold:{cells_subset.get_style_detail(\"font\",\"b\")}')\n",
    "print(\"--------Use .modify_style method to set bold to True--------\")\n",
    "cells_subset.modify_style(\"font\",Font(b=True))\n",
    "print(f'After font name:{cells_subset.get_style_detail(\"font\",\"name\")}')\n",
    "print(f'After font size:{cells_subset.get_style_detail(\"font\",\"size\")}')\n",
    "print(f'After font bold:{cells_subset.get_style_detail(\"font\",\"b\")}')\n",
    "cells_subset.to_range().clear(value=False,formatting=True) # clear format only\n"
   ]
  }
 ],
 "metadata": {
  "kernelspec": {
   "display_name": "Python 3.9.12 ('base')",
   "language": "python",
   "name": "python3"
  },
  "language_info": {
   "codemirror_mode": {
    "name": "ipython",
    "version": 3
   },
   "file_extension": ".py",
   "mimetype": "text/x-python",
   "name": "python",
   "nbconvert_exporter": "python",
   "pygments_lexer": "ipython3",
   "version": "3.9.12"
  },
  "orig_nbformat": 4,
  "vscode": {
   "interpreter": {
    "hash": "610a6f344c2137faf927ea819c63f6cee33a2c04455044b28099f39fe9722347"
   }
  }
 },
 "nbformat": 4,
 "nbformat_minor": 2
}
